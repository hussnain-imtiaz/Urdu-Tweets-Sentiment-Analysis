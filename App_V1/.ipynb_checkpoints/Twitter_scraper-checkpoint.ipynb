{
 "cells": [
  {
   "cell_type": "code",
   "execution_count": 1,
   "metadata": {},
   "outputs": [],
   "source": [
    "import csv\n",
    "from getpass import getpass\n",
    "from time import sleep\n",
    "from selenium.webdriver.common.keys import Keys\n",
    "from selenium.common.exceptions import NoSuchElementException\n",
    "from msedge.selenium_tools import Edge, EdgeOptions\n",
    "from termcolor import colored\n",
    "\n",
    "\n",
    "import pandas as pd\n",
    "pd.set_option(\"display.max_rows\",1000)\n",
    "pd.set_option(\"display.max_colwidth\",200)"
   ]
  },
  {
   "cell_type": "code",
   "execution_count": 29,
   "metadata": {},
   "outputs": [],
   "source": [
    "def scrap_tweets(post):\n",
    "    try:\n",
    "        username=post.find_element_by_xpath(\".//span\").text\n",
    "        text=post.find_element_by_xpath(\".//div[2]/div[2]/div[2]\").text\n",
    "        #rofile=post.find_element_by_xpath(\".//div[1][@a='href']\").text\n",
    "    except NoSuchElementException:\n",
    "        return\n",
    "        \n",
    "    tweet=(username,text)\n",
    "    return tweet\n",
    "\n",
    "options=EdgeOptions()\n",
    "options.use_chromium=True\n",
    "driver=Edge(options=options)\n",
    "    \n",
    "driver.get(\"https://www.twitter.com/login\")\n",
    "driver.maximize_window()\n",
    "\n",
    "username=driver.find_element_by_xpath('//input[@name=\"session[username_or_email]\"]')\n",
    "username.send_keys(\"studyp608@gmail.com\")\n",
    "#password=getpass()\n",
    "\n",
    "userpas=driver.find_element_by_xpath('//input[@name=\"session[password]\"]')\n",
    "userpas.send_keys('7072044aA')\n",
    "userpas.send_keys(Keys.RETURN)\n",
    "sleep(1)\n",
    "\n",
    "username=driver.find_element_by_xpath('//input[@name=\"session[username_or_email]\"]')\n",
    "username.send_keys(\"03111415961\")\n",
    "#assword=getpass()\n",
    "\n",
    "userpas=driver.find_element_by_xpath('//input[@name=\"session[password]\"]')\n",
    "userpas.send_keys('7072044aA')\n",
    "userpas.send_keys(Keys.RETURN)\n",
    "sleep(1)\n",
    "\n",
    "\n",
    "\n",
    "search=driver.find_element_by_xpath('//input[@aria-label=\"Search query\"]')\n",
    "search.send_keys('\"پاک فوج\" lang:ur -filter:replies')\n",
    "search.send_keys(Keys.RETURN)\n",
    "\n",
    "driver.find_element_by_link_text(\"Latest\").click()\n",
    "data=[]\n",
    "tweet_ids=set()\n",
    "last_position=driver.execute_script(\"return window.pageYOffset;\")\n",
    "scrolling=True\n",
    "\n",
    "while scrolling:\n",
    "    posts=driver.find_elements_by_xpath('//div[@data-testid=\"tweet\"]')\n",
    "    for post in posts[-15:]:\n",
    "        tweet=scrap_tweets(post)\n",
    "        if tweet:\n",
    "            tweet_id=\"\".join(tweet)\n",
    "            if tweet_id not in tweet_ids:\n",
    "                tweet_ids.add(tweet_id)\n",
    "                data.append(tweet)\n",
    "                \n",
    "    scroll_attempt=0\n",
    "    while True:\n",
    "        driver.execute_script(\"window.scrollTo(0,document.body.scrollHeight);\")\n",
    "        sleep(1)\n",
    "        \n",
    "        curr_position=driver.execute_script(\"return window.pageYOffset;\")\n",
    "        if last_position==curr_position:\n",
    "            scroll_attempt += 1\n",
    "            \n",
    "            if scroll_attempt >= 3:\n",
    "                scrolling=False\n",
    "                break\n",
    "                \n",
    "            else:\n",
    "                sleep(2)\n",
    "        else:\n",
    "            last_position=curr_position\n",
    "            break\n",
    "            "
   ]
  },
  {
   "cell_type": "code",
   "execution_count": 30,
   "metadata": {},
   "outputs": [],
   "source": [
    "with open(\"Data/urdu_tweets.csv\", \"w\", newline=\"\", encoding=\"utf-8\") as f:\n",
    "    header=[\"user_name\",\"tweets\"]\n",
    "    writer=csv.writer(f)\n",
    "    writer.writerow(header)\n",
    "    writer.writerows(data)\n",
    "    \n",
    "    "
   ]
  },
  {
   "cell_type": "code",
   "execution_count": 31,
   "metadata": {},
   "outputs": [],
   "source": [
    "df=pd.read_csv(\"Data/urdu_tweets.csv\")"
   ]
  },
  {
   "cell_type": "code",
   "execution_count": 32,
   "metadata": {},
   "outputs": [
    {
     "name": "stdout",
     "output_type": "stream",
     "text": [
      "<class 'pandas.core.frame.DataFrame'>\n",
      "RangeIndex: 4639 entries, 0 to 4638\n",
      "Data columns (total 2 columns):\n",
      " #   Column     Non-Null Count  Dtype \n",
      "---  ------     --------------  ----- \n",
      " 0   user_name  4638 non-null   object\n",
      " 1   tweets     1815 non-null   object\n",
      "dtypes: object(2)\n",
      "memory usage: 72.6+ KB\n"
     ]
    }
   ],
   "source": [
    "df.info()"
   ]
  },
  {
   "cell_type": "code",
   "execution_count": 33,
   "metadata": {},
   "outputs": [],
   "source": [
    "df.dropna(inplace=True)"
   ]
  },
  {
   "cell_type": "markdown",
   "metadata": {},
   "source": [
    "# Looking at the scraped data"
   ]
  },
  {
   "cell_type": "code",
   "execution_count": 34,
   "metadata": {},
   "outputs": [
    {
     "data": {
      "text/html": [
       "<div>\n",
       "<style scoped>\n",
       "    .dataframe tbody tr th:only-of-type {\n",
       "        vertical-align: middle;\n",
       "    }\n",
       "\n",
       "    .dataframe tbody tr th {\n",
       "        vertical-align: top;\n",
       "    }\n",
       "\n",
       "    .dataframe thead th {\n",
       "        text-align: right;\n",
       "    }\n",
       "</style>\n",
       "<table border=\"1\" class=\"dataframe\">\n",
       "  <thead>\n",
       "    <tr style=\"text-align: right;\">\n",
       "      <th></th>\n",
       "      <th>user_name</th>\n",
       "      <th>tweets</th>\n",
       "    </tr>\n",
       "  </thead>\n",
       "  <tbody>\n",
       "    <tr>\n",
       "      <th>0</th>\n",
       "      <td>Irshad Hussain Rathi PTI</td>\n",
       "      <td>1:02\\n3 views</td>\n",
       "    </tr>\n",
       "    <tr>\n",
       "      <th>1</th>\n",
       "      <td>جمیل حسن</td>\n",
       "      <td>Quote Tweet\\nNafees Ahmed PTI\\n@Nafees4217\\n · 17h\\nپاک فوج نے بھارتی سہنا کو سرحدی خلاف ورزی پر منہ توڑ جواب دیکر ثابت کر دیا پاک فوج دنیا کی بہترین فوج ہے</td>\n",
       "    </tr>\n",
       "    <tr>\n",
       "      <th>2</th>\n",
       "      <td>Zoya Khan</td>\n",
       "      <td>Quote Tweet\\nAfridi Tribal\\n@Afridijank\\n · 13h\\nپی ٹی ایم نے ان دو قوم کو بچایا ۔ ۔ فوج تماشا دیکھ رہاہیں  تاکہ ۔ قبائل ۔ایک دوسرے کا دشمن بن جائے ۔اس لے فوج اور  ایف سی ۔ اور مقامی  صرف نام کا پ...</td>\n",
       "    </tr>\n",
       "    <tr>\n",
       "      <th>3</th>\n",
       "      <td>Haroon</td>\n",
       "      <td>From \\nHaroon</td>\n",
       "    </tr>\n",
       "    <tr>\n",
       "      <th>8</th>\n",
       "      <td>Zaeem Kharal</td>\n",
       "      <td>Momina \\n and 9 others</td>\n",
       "    </tr>\n",
       "    <tr>\n",
       "      <th>11</th>\n",
       "      <td>حق اور سچ</td>\n",
       "      <td>Quote Tweet\\nShafiqUrRehman\\n@u39399460\\n · Nov 19\\nیہ ہیں وہ صاحب جن کی معمولی سی تنخواہ میں دو بچے انگلینڈ میں اور ایک بچی جرمنی میں تعلیم حاصل کر رہی ہے اور ہماری تنخواہ میں تین بچے الائیڈ سکول...</td>\n",
       "    </tr>\n",
       "    <tr>\n",
       "      <th>16</th>\n",
       "      <td>عدنان حسین کھوکھر\\n(ISPR)</td>\n",
       "      <td>Quote Tweet\\nZaid Hamid\\n@ZaidZamanHamid\\n · 7h\\nجو لوگ آج پاک فوج پر بھونکتے ہیں ان کے لئے یہ ایک نصیحت ہے۔۔ \\nیاد رکھو اگر پاک فوج نہ ہو تو جلد ہی تمہارے گھروں میں کفار اور مشرکین کی فوج اور  خو...</td>\n",
       "    </tr>\n",
       "    <tr>\n",
       "      <th>17</th>\n",
       "      <td>Usman Abbasi</td>\n",
       "      <td>2:18\\n29 views</td>\n",
       "    </tr>\n",
       "    <tr>\n",
       "      <th>21</th>\n",
       "      <td>Amjad Amin</td>\n",
       "      <td>Quote Tweet\\nHamid Aziz\\n@HamidAziz03\\n · 18h\\n نکتہ  چینی  \\nکہتے ھیں کہ کسی سلطنت کے بادشاہ نے \\nجنگ میں شریک ھونے والے گھوڑوں کے اصطبل کے ساتھ ہی گدھے بھی رکھے ہوۓ تھے۔ گدھے ہر روز گھوڑوں کا بچ...</td>\n",
       "    </tr>\n",
       "    <tr>\n",
       "      <th>23</th>\n",
       "      <td>Husnain Shah MSF (N)</td>\n",
       "      <td>Maryam Nawaz Sharif and 9 others</td>\n",
       "    </tr>\n",
       "  </tbody>\n",
       "</table>\n",
       "</div>"
      ],
      "text/plain": [
       "                    user_name  \\\n",
       "0    Irshad Hussain Rathi PTI   \n",
       "1                    جمیل حسن   \n",
       "2                   Zoya Khan   \n",
       "3                      Haroon   \n",
       "8                Zaeem Kharal   \n",
       "11                  حق اور سچ   \n",
       "16  عدنان حسین کھوکھر\\n(ISPR)   \n",
       "17               Usman Abbasi   \n",
       "21                 Amjad Amin   \n",
       "23       Husnain Shah MSF (N)   \n",
       "\n",
       "                                                                                                                                                                                                     tweets  \n",
       "0                                                                                                                                                                                             1:02\\n3 views  \n",
       "1                                              Quote Tweet\\nNafees Ahmed PTI\\n@Nafees4217\\n · 17h\\nپاک فوج نے بھارتی سہنا کو سرحدی خلاف ورزی پر منہ توڑ جواب دیکر ثابت کر دیا پاک فوج دنیا کی بہترین فوج ہے  \n",
       "2   Quote Tweet\\nAfridi Tribal\\n@Afridijank\\n · 13h\\nپی ٹی ایم نے ان دو قوم کو بچایا ۔ ۔ فوج تماشا دیکھ رہاہیں  تاکہ ۔ قبائل ۔ایک دوسرے کا دشمن بن جائے ۔اس لے فوج اور  ایف سی ۔ اور مقامی  صرف نام کا پ...  \n",
       "3                                                                                                                                                                                             From \\nHaroon  \n",
       "8                                                                                                                                                                                    Momina \\n and 9 others  \n",
       "11  Quote Tweet\\nShafiqUrRehman\\n@u39399460\\n · Nov 19\\nیہ ہیں وہ صاحب جن کی معمولی سی تنخواہ میں دو بچے انگلینڈ میں اور ایک بچی جرمنی میں تعلیم حاصل کر رہی ہے اور ہماری تنخواہ میں تین بچے الائیڈ سکول...  \n",
       "16  Quote Tweet\\nZaid Hamid\\n@ZaidZamanHamid\\n · 7h\\nجو لوگ آج پاک فوج پر بھونکتے ہیں ان کے لئے یہ ایک نصیحت ہے۔۔ \\nیاد رکھو اگر پاک فوج نہ ہو تو جلد ہی تمہارے گھروں میں کفار اور مشرکین کی فوج اور  خو...  \n",
       "17                                                                                                                                                                                           2:18\\n29 views  \n",
       "21  Quote Tweet\\nHamid Aziz\\n@HamidAziz03\\n · 18h\\n نکتہ  چینی  \\nکہتے ھیں کہ کسی سلطنت کے بادشاہ نے \\nجنگ میں شریک ھونے والے گھوڑوں کے اصطبل کے ساتھ ہی گدھے بھی رکھے ہوۓ تھے۔ گدھے ہر روز گھوڑوں کا بچ...  \n",
       "23                                                                                                                                                                         Maryam Nawaz Sharif and 9 others  "
      ]
     },
     "execution_count": 34,
     "metadata": {},
     "output_type": "execute_result"
    }
   ],
   "source": [
    "df[:10]"
   ]
  },
  {
   "cell_type": "code",
   "execution_count": 35,
   "metadata": {},
   "outputs": [
    {
     "name": "stdout",
     "output_type": "stream",
     "text": [
      "<class 'pandas.core.frame.DataFrame'>\n",
      "Int64Index: 1815 entries, 0 to 4638\n",
      "Data columns (total 2 columns):\n",
      " #   Column     Non-Null Count  Dtype \n",
      "---  ------     --------------  ----- \n",
      " 0   user_name  1815 non-null   object\n",
      " 1   tweets     1815 non-null   object\n",
      "dtypes: object(2)\n",
      "memory usage: 42.5+ KB\n"
     ]
    }
   ],
   "source": [
    "df.info()"
   ]
  },
  {
   "cell_type": "code",
   "execution_count": 36,
   "metadata": {},
   "outputs": [],
   "source": [
    "df.reset_index(drop=True,inplace=True)"
   ]
  },
  {
   "cell_type": "code",
   "execution_count": 37,
   "metadata": {},
   "outputs": [
    {
     "data": {
      "text/html": [
       "<div>\n",
       "<style scoped>\n",
       "    .dataframe tbody tr th:only-of-type {\n",
       "        vertical-align: middle;\n",
       "    }\n",
       "\n",
       "    .dataframe tbody tr th {\n",
       "        vertical-align: top;\n",
       "    }\n",
       "\n",
       "    .dataframe thead th {\n",
       "        text-align: right;\n",
       "    }\n",
       "</style>\n",
       "<table border=\"1\" class=\"dataframe\">\n",
       "  <thead>\n",
       "    <tr style=\"text-align: right;\">\n",
       "      <th></th>\n",
       "      <th>user_name</th>\n",
       "      <th>tweets</th>\n",
       "    </tr>\n",
       "  </thead>\n",
       "  <tbody>\n",
       "    <tr>\n",
       "      <th>0</th>\n",
       "      <td>Irshad Hussain Rathi PTI</td>\n",
       "      <td>1:02\\n3 views</td>\n",
       "    </tr>\n",
       "    <tr>\n",
       "      <th>1</th>\n",
       "      <td>جمیل حسن</td>\n",
       "      <td>Quote Tweet\\nNafees Ahmed PTI\\n@Nafees4217\\n · 17h\\nپاک فوج نے بھارتی سہنا کو سرحدی خلاف ورزی پر منہ توڑ جواب دیکر ثابت کر دیا پاک فوج دنیا کی بہترین فوج ہے</td>\n",
       "    </tr>\n",
       "    <tr>\n",
       "      <th>2</th>\n",
       "      <td>Zoya Khan</td>\n",
       "      <td>Quote Tweet\\nAfridi Tribal\\n@Afridijank\\n · 13h\\nپی ٹی ایم نے ان دو قوم کو بچایا ۔ ۔ فوج تماشا دیکھ رہاہیں  تاکہ ۔ قبائل ۔ایک دوسرے کا دشمن بن جائے ۔اس لے فوج اور  ایف سی ۔ اور مقامی  صرف نام کا پ...</td>\n",
       "    </tr>\n",
       "    <tr>\n",
       "      <th>3</th>\n",
       "      <td>Haroon</td>\n",
       "      <td>From \\nHaroon</td>\n",
       "    </tr>\n",
       "    <tr>\n",
       "      <th>4</th>\n",
       "      <td>Zaeem Kharal</td>\n",
       "      <td>Momina \\n and 9 others</td>\n",
       "    </tr>\n",
       "  </tbody>\n",
       "</table>\n",
       "</div>"
      ],
      "text/plain": [
       "                  user_name  \\\n",
       "0  Irshad Hussain Rathi PTI   \n",
       "1                  جمیل حسن   \n",
       "2                 Zoya Khan   \n",
       "3                    Haroon   \n",
       "4              Zaeem Kharal   \n",
       "\n",
       "                                                                                                                                                                                                    tweets  \n",
       "0                                                                                                                                                                                            1:02\\n3 views  \n",
       "1                                             Quote Tweet\\nNafees Ahmed PTI\\n@Nafees4217\\n · 17h\\nپاک فوج نے بھارتی سہنا کو سرحدی خلاف ورزی پر منہ توڑ جواب دیکر ثابت کر دیا پاک فوج دنیا کی بہترین فوج ہے  \n",
       "2  Quote Tweet\\nAfridi Tribal\\n@Afridijank\\n · 13h\\nپی ٹی ایم نے ان دو قوم کو بچایا ۔ ۔ فوج تماشا دیکھ رہاہیں  تاکہ ۔ قبائل ۔ایک دوسرے کا دشمن بن جائے ۔اس لے فوج اور  ایف سی ۔ اور مقامی  صرف نام کا پ...  \n",
       "3                                                                                                                                                                                            From \\nHaroon  \n",
       "4                                                                                                                                                                                   Momina \\n and 9 others  "
      ]
     },
     "execution_count": 37,
     "metadata": {},
     "output_type": "execute_result"
    }
   ],
   "source": [
    "df.head()"
   ]
  },
  {
   "cell_type": "code",
   "execution_count": 38,
   "metadata": {},
   "outputs": [
    {
     "data": {
      "text/plain": [
       "'Quote Tweet\\nAfridi Tribal\\n@Afridijank\\n · 13h\\nپی ٹی ایم نے ان دو قوم کو بچایا ۔ ۔ فوج تماشا دیکھ رہاہیں  تاکہ ۔ قبائل ۔ایک دوسرے کا دشمن بن جائے ۔اس لے فوج اور  ایف سی ۔ اور مقامی  صرف نام کا پولیس ۔ ان قبائلیوں کا مسئلہ حل کرنے کے لئے نہیں گیا #StopStateTerrorism twitter.com/groonwazir786/…'"
      ]
     },
     "execution_count": 38,
     "metadata": {},
     "output_type": "execute_result"
    }
   ],
   "source": [
    "df.tweets[2]"
   ]
  },
  {
   "cell_type": "code",
   "execution_count": 39,
   "metadata": {},
   "outputs": [],
   "source": [
    "df.to_csv(\"Data/urdu_tweets.csv\",index=False)"
   ]
  },
  {
   "cell_type": "code",
   "execution_count": 40,
   "metadata": {},
   "outputs": [],
   "source": [
    "df=pd.read_csv(\"Data/urdu_tweets.csv\")"
   ]
  },
  {
   "cell_type": "code",
   "execution_count": 41,
   "metadata": {},
   "outputs": [
    {
     "name": "stdout",
     "output_type": "stream",
     "text": [
      "<class 'pandas.core.frame.DataFrame'>\n",
      "RangeIndex: 1815 entries, 0 to 1814\n",
      "Data columns (total 2 columns):\n",
      " #   Column     Non-Null Count  Dtype \n",
      "---  ------     --------------  ----- \n",
      " 0   user_name  1815 non-null   object\n",
      " 1   tweets     1815 non-null   object\n",
      "dtypes: object(2)\n",
      "memory usage: 28.5+ KB\n"
     ]
    }
   ],
   "source": [
    "df.info()"
   ]
  }
 ],
 "metadata": {
  "kernelspec": {
   "display_name": "Python 3",
   "language": "python",
   "name": "python3"
  },
  "language_info": {
   "codemirror_mode": {
    "name": "ipython",
    "version": 3
   },
   "file_extension": ".py",
   "mimetype": "text/x-python",
   "name": "python",
   "nbconvert_exporter": "python",
   "pygments_lexer": "ipython3",
   "version": "3.7.6"
  }
 },
 "nbformat": 4,
 "nbformat_minor": 4
}

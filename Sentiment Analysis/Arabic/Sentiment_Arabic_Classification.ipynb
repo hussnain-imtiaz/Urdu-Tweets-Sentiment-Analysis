{
  "nbformat": 4,
  "nbformat_minor": 0,
  "metadata": {
    "colab": {
      "name": "Sentiment_Arabic_Classification.ipynb",
      "provenance": []
    },
    "kernelspec": {
      "name": "python3",
      "display_name": "Python 3"
    }
  },
  "cells": [
    {
      "cell_type": "code",
      "metadata": {
        "id": "jyLdtPp-Of8M",
        "outputId": "356a9c3e-446f-4cca-d2a0-c9384a765f9b",
        "colab": {
          "base_uri": "https://localhost:8080/",
          "height": 197
        }
      },
      "source": [
        "# load data and take a quick look\n",
        "import re\n",
        "import pandas as pd\n",
        "import seaborn as sns\n",
        "import matplotlib.pyplot as plt\n",
        "from sklearn.model_selection import train_test_split\n",
        "from sklearn.feature_extraction.text import TfidfVectorizer\n",
        "\n",
        "raw_data = pd.read_csv('urdu_v1.tsv', sep ='\\t')\n",
        "raw_data.head(5)"
      ],
      "execution_count": 1,
      "outputs": [
        {
          "output_type": "execute_result",
          "data": {
            "text/html": [
              "<div>\n",
              "<style scoped>\n",
              "    .dataframe tbody tr th:only-of-type {\n",
              "        vertical-align: middle;\n",
              "    }\n",
              "\n",
              "    .dataframe tbody tr th {\n",
              "        vertical-align: top;\n",
              "    }\n",
              "\n",
              "    .dataframe thead th {\n",
              "        text-align: right;\n",
              "    }\n",
              "</style>\n",
              "<table border=\"1\" class=\"dataframe\">\n",
              "  <thead>\n",
              "    <tr style=\"text-align: right;\">\n",
              "      <th></th>\n",
              "      <th>Tweet</th>\n",
              "      <th>Class</th>\n",
              "    </tr>\n",
              "  </thead>\n",
              "  <tbody>\n",
              "    <tr>\n",
              "      <th>0</th>\n",
              "      <td>میں نے ایٹم بم بنایا ھے ۔۔۔۔او بھائی ایٹم بمب ...</td>\n",
              "      <td>P</td>\n",
              "    </tr>\n",
              "    <tr>\n",
              "      <th>1</th>\n",
              "      <td>چندے سے انقلاب اور عمران خان وزیر اعظم نہیں بن...</td>\n",
              "      <td>N</td>\n",
              "    </tr>\n",
              "    <tr>\n",
              "      <th>2</th>\n",
              "      <td>ٹویٹر کا خیال کیسے آیا ؟</td>\n",
              "      <td>O</td>\n",
              "    </tr>\n",
              "    <tr>\n",
              "      <th>3</th>\n",
              "      <td>سرچ انجن گوگل کے نائب صدر نے فضا میں ، 130,000...</td>\n",
              "      <td>P</td>\n",
              "    </tr>\n",
              "    <tr>\n",
              "      <th>4</th>\n",
              "      <td>ابھی تک اسکی لہریں کبھی کبھی آ جاتی ہیں یار :أْ</td>\n",
              "      <td>P</td>\n",
              "    </tr>\n",
              "  </tbody>\n",
              "</table>\n",
              "</div>"
            ],
            "text/plain": [
              "                                               Tweet Class\n",
              "0  میں نے ایٹم بم بنایا ھے ۔۔۔۔او بھائی ایٹم بمب ...     P\n",
              "1  چندے سے انقلاب اور عمران خان وزیر اعظم نہیں بن...     N\n",
              "2                           ٹویٹر کا خیال کیسے آیا ؟     O\n",
              "3  سرچ انجن گوگل کے نائب صدر نے فضا میں ، 130,000...     P\n",
              "4    ابھی تک اسکی لہریں کبھی کبھی آ جاتی ہیں یار :أْ     P"
            ]
          },
          "metadata": {
            "tags": []
          },
          "execution_count": 1
        }
      ]
    },
    {
      "cell_type": "code",
      "metadata": {
        "id": "aaqExSIuPsgB",
        "outputId": "f3a83a1f-634c-4250-a69f-af657eb54908",
        "colab": {
          "base_uri": "https://localhost:8080/",
          "height": 278
        }
      },
      "source": [
        "# check the size of the data and its class distribution\n",
        "sentences = raw_data['Tweet'].tolist()\n",
        "sentiments = raw_data['Class'].tolist()\n",
        "\n",
        "sns.countplot(x='Class', data=raw_data)\n",
        "plt.show()"
      ],
      "execution_count": 2,
      "outputs": [
        {
          "output_type": "display_data",
          "data": {
            "image/png": "[encoded data removed]",
            "text/plain": [
              "<Figure size 432x288 with 1 Axes>"
            ]
          },
          "metadata": {
            "tags": [],
            "needs_background": "light"
          }
        }
      ]
    },
    {
      "cell_type": "code",
      "metadata": {
        "id": "UUUYzR2FP0rh",
        "outputId": "8aee07bb-8d61-48a9-dda8-68744687a6d1",
        "colab": {
          "base_uri": "https://localhost:8080/",
          "height": 278
        }
      },
      "source": [
        "indexNames = raw_data[raw_data['Class'] == \"O\"].index\n",
        "raw_data.drop(indexNames, inplace=True)\n",
        "sns.countplot(x='Class', data=raw_data)\n",
        "plt.show()"
      ],
      "execution_count": 3,
      "outputs": [
        {
          "output_type": "display_data",
          "data": {
            "image/png": "[encoded data removed]",
            "text/plain": [
              "<Figure size 432x288 with 1 Axes>"
            ]
          },
          "metadata": {
            "tags": [],
            "needs_background": "light"
          }
        }
      ]
    },
    {
      "cell_type": "code",
      "metadata": {
        "id": "41-2ZSXBQdS6"
      },
      "source": [
        "# text cleaning and pre-processing:\n",
        "def delete_urdu_english_symbols(sentences):\n",
        "    cleaned = []\n",
        "    for sentence in sentences:\n",
        "        text = re.sub(r\"\\d+\", \" \", sentence)\n",
        "        # English punctuations\n",
        "        text = re.sub(r\"\"\"[!\"#$%&'()*+,-./:;<=>?@[\\]^_`{|}~]+\"\"\", \" \", text)\n",
        "        # Urdu punctuations\n",
        "        text = re.sub(r\"[:؛؟’‘٭ء،۔]+\", \" \", text)\n",
        "        # Arabic numbers\n",
        "        text = re.sub(r\"[٠‎١‎٢‎٣‎٤‎٥‎٦‎٧‎٨‎٩]+\", \" \", text)\n",
        "        text = re.sub(r\"[^\\w\\s]\", \" \", text)\n",
        "        # Remove English characters and numbers.\n",
        "        text = re.sub(r\"[a-zA-z0-9]+\", \" \", text)\n",
        "        # remove multiple spaces.\n",
        "        text = re.sub(r\" +\", \" \", text)\n",
        "        text = text.split(\" \")\n",
        "        # some stupid empty tokens should be removed.\n",
        "        text = [t.strip() for t in text if t.strip()]\n",
        "        cleaned.append(\" \".join(text))\n",
        "    return cleaned\n",
        "\n",
        "X = delete_urdu_english_symbols(sentences)\n",
        "Y = sentiments"
      ],
      "execution_count": 4,
      "outputs": []
    },
    {
      "cell_type": "code",
      "metadata": {
        "id": "skb2Z5mrQeAw"
      },
      "source": [
        "# Feel free to use different ratios to split the data.\n",
        "train_text, test_text, train_labels, test_labels = train_test_split(X, Y, test_size=0.20, random_state=42)"
      ],
      "execution_count": 5,
      "outputs": []
    },
    {
      "cell_type": "code",
      "metadata": {
        "id": "U-hU7IrmQgif",
        "outputId": "2b1f0c8e-2c54-4d20-c9a4-68416ff33671",
        "colab": {
          "base_uri": "https://localhost:8080/",
          "height": 143
        }
      },
      "source": [
        "# training: tf-idf + logistic regression\n",
        "max_feature_num = 5000\n",
        "train_vectorizer = TfidfVectorizer(max_features=max_feature_num)\n",
        "train_vecs = train_vectorizer.fit_transform(train_text)\n",
        "test_vecs = TfidfVectorizer(max_features=max_feature_num,vocabulary=train_vectorizer.vocabulary_).fit_transform(test_text)\n",
        "\n",
        "# train model\n",
        "from sklearn.linear_model import LogisticRegression\n",
        "clf = LogisticRegression().fit(train_vecs, train_labels)\n",
        "\n",
        "# test model\n",
        "test_pred = clf.predict(test_vecs)\n",
        "from sklearn.metrics import precision_recall_fscore_support,accuracy_score\n",
        "acc = accuracy_score(test_labels, test_pred)\n",
        "pre, rec, f1, _ = precision_recall_fscore_support(test_labels, test_pred, average='macro')\n",
        "print('acc', acc)\n",
        "print('precision', pre)\n",
        "print('rec', rec)\n",
        "print('f1', f1)"
      ],
      "execution_count": 6,
      "outputs": [
        {
          "output_type": "stream",
          "text": [
            "acc 0.59\n",
            "precision 0.4026920528646651\n",
            "rec 0.40702593979747537\n",
            "f1 0.39529751294457177\n"
          ],
          "name": "stdout"
        },
        {
          "output_type": "stream",
          "text": [
            "/usr/local/lib/python3.6/dist-packages/sklearn/metrics/_classification.py:1272: UndefinedMetricWarning: Precision and F-score are ill-defined and being set to 0.0 in labels with no predicted samples. Use `zero_division` parameter to control this behavior.\n",
            "  _warn_prf(average, modifier, msg_start, len(result))\n"
          ],
          "name": "stderr"
        }
      ]
    },
    {
      "cell_type": "code",
      "metadata": {
        "id": "tie0DIxRQisO"
      },
      "source": [
        "import pickle\n",
        "\n",
        "# save model and other necessary modules\n",
        "all_info_want_to_save = {\n",
        "    'model': clf,\n",
        "    'vectorizer': TfidfVectorizer(max_features=max_feature_num,vocabulary=train_vectorizer.vocabulary_)\n",
        "}\n",
        "save_path = open(\"sentiment_urdu_logistic_regression.pickle\",\"wb\")\n",
        "pickle.dump(all_info_want_to_save, save_path)"
      ],
      "execution_count": 7,
      "outputs": []
    },
    {
      "cell_type": "code",
      "metadata": {
        "id": "pSg_2e-mQ_rq",
        "outputId": "4c885f2d-a01e-4f4a-bc39-684ffe1ef832",
        "colab": {
          "base_uri": "https://localhost:8080/",
          "height": 178
        }
      },
      "source": [
        "# Update the model path and use new data file\n",
        "\n",
        "import pickle\n",
        "\n",
        "model_path = '/content/sentiment_urdu_logistic_regression.pickle'\n",
        "\n",
        "# reload your model and use it to make predictions for test text\n",
        "# you should adjust the code so as to load to your saved model/components\n",
        "def test_trained_model(model_path, test_text):\n",
        "    saved_model_dic = pickle.load(open(model_path,\"rb\"))\n",
        "    saved_clf = saved_model_dic['model']\n",
        "    saved_vectorizer = saved_model_dic['vectorizer']\n",
        "    print(len(saved_vectorizer.vocabulary))\n",
        "    new_test_vecs = saved_vectorizer.fit_transform(test_text)\n",
        "    return saved_clf.predict(new_test_vecs)\n",
        "\n",
        "\n",
        "# load sample test data\n",
        "import pandas as pd\n",
        "test_data = pd.read_csv('/content/urdu_v1.tsv', delimiter = '\\t')\n",
        "test_text = test_data['Tweet'].tolist()[-5000:]\n",
        "test_labels = test_data['Class'].tolist()[-5000:]\n",
        "\n",
        "print('test data size', len(test_labels))\n",
        "\n",
        "# test model\n",
        "from sklearn.metrics import precision_recall_fscore_support,accuracy_score\n",
        "new_test_pred = test_trained_model(\"sentiment_urdu_logistic_regression.pickle\", test_text)\n",
        "acc = accuracy_score(test_labels, new_test_pred)\n",
        "pre, rec, f1, _ = precision_recall_fscore_support(test_labels, new_test_pred, average='macro')\n",
        "print('acc', acc)\n",
        "print('precision', pre)\n",
        "print('rec', rec)\n",
        "print('f1', f1)"
      ],
      "execution_count": 8,
      "outputs": [
        {
          "output_type": "stream",
          "text": [
            "test data size 1000\n",
            "4349\n",
            "acc 0.883\n",
            "precision 0.5906875431331953\n",
            "rec 0.6000555555555556\n",
            "f1 0.5942867444604694\n"
          ],
          "name": "stdout"
        },
        {
          "output_type": "stream",
          "text": [
            "/usr/local/lib/python3.6/dist-packages/sklearn/metrics/_classification.py:1272: UndefinedMetricWarning: Precision and F-score are ill-defined and being set to 0.0 in labels with no predicted samples. Use `zero_division` parameter to control this behavior.\n",
            "  _warn_prf(average, modifier, msg_start, len(result))\n"
          ],
          "name": "stderr"
        }
      ]
    }
  ]
}
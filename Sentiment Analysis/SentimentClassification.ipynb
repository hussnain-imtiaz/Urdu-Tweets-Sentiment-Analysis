{
  "nbformat": 4,
  "nbformat_minor": 0,
  "metadata": {
    "colab": {
      "name": "SentimentClassification.ipynb",
      "provenance": [],
      "collapsed_sections": []
    },
    "kernelspec": {
      "name": "python3",
      "display_name": "Python 3"
    }
  },
  "cells": [
    {
      "cell_type": "code",
      "metadata": {
        "id": "9cajUV9wvwmq",
        "outputId": "77f2c924-4e66-4f7f-96af-a71cf37b2554",
        "colab": {
          "base_uri": "https://localhost:8080/",
          "height": 197
        }
      },
      "source": [
        "import pandas as pd\n",
        "import re\n",
        "import seaborn as sns\n",
        "import matplotlib.pyplot as plt\n",
        "from sklearn.model_selection import train_test_split\n",
        "from sklearn.feature_extraction.text import TfidfVectorizer\n",
        "\n",
        "raw_data = pd.read_csv('sentiment.csv')\n",
        "\n",
        "raw_data.head()"
      ],
      "execution_count": 129,
      "outputs": [
        {
          "output_type": "execute_result",
          "data": {
            "text/html": [
              "<div>\n",
              "<style scoped>\n",
              "    .dataframe tbody tr th:only-of-type {\n",
              "        vertical-align: middle;\n",
              "    }\n",
              "\n",
              "    .dataframe tbody tr th {\n",
              "        vertical-align: top;\n",
              "    }\n",
              "\n",
              "    .dataframe thead th {\n",
              "        text-align: right;\n",
              "    }\n",
              "</style>\n",
              "<table border=\"1\" class=\"dataframe\">\n",
              "  <thead>\n",
              "    <tr style=\"text-align: right;\">\n",
              "      <th></th>\n",
              "      <th>sentence</th>\n",
              "      <th>sentiment</th>\n",
              "    </tr>\n",
              "  </thead>\n",
              "  <tbody>\n",
              "    <tr>\n",
              "      <th>0</th>\n",
              "      <td>Sai kha ya her kisi kay bus ki bat nhi hai lak...</td>\n",
              "      <td>Positive</td>\n",
              "    </tr>\n",
              "    <tr>\n",
              "      <th>1</th>\n",
              "      <td>sahi bt h</td>\n",
              "      <td>Positive</td>\n",
              "    </tr>\n",
              "    <tr>\n",
              "      <th>2</th>\n",
              "      <td>Kya bt hai,</td>\n",
              "      <td>Positive</td>\n",
              "    </tr>\n",
              "    <tr>\n",
              "      <th>3</th>\n",
              "      <td>Wah je wah</td>\n",
              "      <td>Positive</td>\n",
              "    </tr>\n",
              "    <tr>\n",
              "      <th>4</th>\n",
              "      <td>Are wha kaya bat hai</td>\n",
              "      <td>Positive</td>\n",
              "    </tr>\n",
              "  </tbody>\n",
              "</table>\n",
              "</div>"
            ],
            "text/plain": [
              "                                            sentence sentiment\n",
              "0  Sai kha ya her kisi kay bus ki bat nhi hai lak...  Positive\n",
              "1                                          sahi bt h  Positive\n",
              "2                                        Kya bt hai,  Positive\n",
              "3                                         Wah je wah  Positive\n",
              "4                               Are wha kaya bat hai  Positive"
            ]
          },
          "metadata": {
            "tags": []
          },
          "execution_count": 129
        }
      ]
    },
    {
      "cell_type": "code",
      "metadata": {
        "id": "A_JpSz-av9lL",
        "outputId": "0ec3b5a4-4894-429d-efce-5c088226a1eb",
        "colab": {
          "base_uri": "https://localhost:8080/",
          "height": 132
        }
      },
      "source": [
        "# check the size of the data and its class distribution\n",
        "sentences = raw_data['sentence']..values.astype('U').tolist()\n",
        "sentiments = raw_data['sentiment']..values.astype('U').tolist()\n",
        "\n",
        "sns.countplot(x='sentiment', data=raw_data)\n",
        "plt.show()"
      ],
      "execution_count": 130,
      "outputs": [
        {
          "output_type": "error",
          "ename": "SyntaxError",
          "evalue": "ignored",
          "traceback": [
            "\u001b[0;36m  File \u001b[0;32m\"<ipython-input-130-6bc5ca37fe09>\"\u001b[0;36m, line \u001b[0;32m2\u001b[0m\n\u001b[0;31m    sentences = raw_data['sentence']..values.astype('U').tolist()\u001b[0m\n\u001b[0m                                     ^\u001b[0m\n\u001b[0;31mSyntaxError\u001b[0m\u001b[0;31m:\u001b[0m invalid syntax\n"
          ]
        }
      ]
    },
    {
      "cell_type": "code",
      "metadata": {
        "id": "TOLj92dSwPKN",
        "outputId": "cd6da991-312b-4914-f819-054d06730aac",
        "colab": {
          "base_uri": "https://localhost:8080/",
          "height": 278
        }
      },
      "source": [
        "indexNames = raw_data[(raw_data['sentiment'] == \"Neative\") | (raw_data['sentiment'] == \"Neutral\")].index\n",
        "raw_data.drop(indexNames, inplace=True)\n",
        "sns.countplot(x='sentiment', data=raw_data)\n",
        "plt.show()"
      ],
      "execution_count": 131,
      "outputs": [
        {
          "output_type": "display_data",
          "data": {
            "image/png": "[encoded data removed]",
            "text/plain": [
              "<Figure size 432x288 with 1 Axes>"
            ]
          },
          "metadata": {
            "tags": [],
            "needs_background": "light"
          }
        }
      ]
    },
    {
      "cell_type": "code",
      "metadata": {
        "id": "YnbBd_cSwY4B"
      },
      "source": [
        "# text cleaning and pre-processing:\n",
        "\n",
        "X = sentences\n",
        "Y = sentiments"
      ],
      "execution_count": 132,
      "outputs": []
    },
    {
      "cell_type": "code",
      "metadata": {
        "id": "o2Yz9RYT1C9-",
        "outputId": "4a79cdca-35c8-4883-c123-cd2ab539fdce",
        "colab": {
          "base_uri": "https://localhost:8080/",
          "height": 105
        }
      },
      "source": [
        "X[0:5]"
      ],
      "execution_count": 133,
      "outputs": [
        {
          "output_type": "execute_result",
          "data": {
            "text/plain": [
              "['Sai kha ya her kisi kay bus ki bat nhi hai lakin main ki hal kal bi Aj aur aj bi sirf Aus say bus',\n",
              " 'sahi bt h',\n",
              " 'Kya bt hai,',\n",
              " 'Wah je wah',\n",
              " 'Are wha kaya bat hai']"
            ]
          },
          "metadata": {
            "tags": []
          },
          "execution_count": 133
        }
      ]
    },
    {
      "cell_type": "code",
      "metadata": {
        "id": "OeOdJc7nw9bb"
      },
      "source": [
        "# Feel free to use different ratios to split the data.\n",
        "train_text, test_text, train_labels, test_labels = train_test_split(X, Y, test_size=0.20, random_state=42)"
      ],
      "execution_count": 134,
      "outputs": []
    },
    {
      "cell_type": "code",
      "metadata": {
        "id": "EiM7ap4LxbZ4",
        "outputId": "9425778f-8591-44c3-c985-ccce39f490d5",
        "colab": {
          "base_uri": "https://localhost:8080/",
          "height": 143
        }
      },
      "source": [
        "# training: tf-idf + logistic regression\n",
        "max_feature_num = 5000\n",
        "train_vectorizer = TfidfVectorizer(max_features=max_feature_num)\n",
        "train_vecs = train_vectorizer.fit_transform(train_text)\n",
        "test_vecs = TfidfVectorizer(max_features=max_feature_num,vocabulary=train_vectorizer.vocabulary_).fit_transform(test_text)\n",
        "\n",
        "# train model\n",
        "from sklearn.linear_model import LogisticRegression\n",
        "clf = LogisticRegression().fit(train_vecs, train_labels)\n",
        "\n",
        "# test model\n",
        "test_pred = clf.predict(test_vecs)\n",
        "from sklearn.metrics import precision_recall_fscore_support,accuracy_score\n",
        "acc = accuracy_score(test_labels, test_pred)\n",
        "pre, rec, f1, _ = precision_recall_fscore_support(test_labels, test_pred, average='macro')\n",
        "print('acc', acc)\n",
        "print('precision', pre)\n",
        "print('rec', rec)\n",
        "print('f1', f1)"
      ],
      "execution_count": 135,
      "outputs": [
        {
          "output_type": "stream",
          "text": [
            "acc 0.7729681978798587\n",
            "precision 0.5148356610142297\n",
            "rec 0.5161762594489455\n",
            "f1 0.5154307849355592\n"
          ],
          "name": "stdout"
        },
        {
          "output_type": "stream",
          "text": [
            "/usr/local/lib/python3.6/dist-packages/sklearn/metrics/_classification.py:1272: UndefinedMetricWarning: Precision and F-score are ill-defined and being set to 0.0 in labels with no predicted samples. Use `zero_division` parameter to control this behavior.\n",
            "  _warn_prf(average, modifier, msg_start, len(result))\n"
          ],
          "name": "stderr"
        }
      ]
    }
  ]
}
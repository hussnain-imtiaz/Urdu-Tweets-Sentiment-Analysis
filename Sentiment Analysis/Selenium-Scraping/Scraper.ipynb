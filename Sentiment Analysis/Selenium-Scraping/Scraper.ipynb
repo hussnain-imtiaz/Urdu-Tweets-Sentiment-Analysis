{
 "cells": [
  {
   "cell_type": "code",
   "execution_count": null,
   "metadata": {},
   "outputs": [],
   "source": [
    "#for browser automation\n",
    "from getpass import getpass\n",
    "from time import sleep\n",
    "from selenium.webdriver.common.keys import Keys\n",
    "from selenium.common.exceptions import NoSuchElementException\n",
    "from msedge.selenium_tools import Edge, EdgeOptions\n",
    "from termcolor import colored\n",
    "\n",
    "\n",
    "#for saving data\n",
    "import pandas as pd\n",
    "pd.set_option(\"display.max_rows\",1000)\n",
    "pd.set_option(\"display.max_colwidth\",200)\n",
    "\n",
    "\n"
   ]
  },
  {
   "cell_type": "code",
   "execution_count": null,
   "metadata": {},
   "outputs": [],
   "source": [
    "def scrap_tweets(post):\n",
    "    \n",
    "    n=1\n",
    "            \n",
    "    try:\n",
    "        username=post.find_element_by_xpath(\".//span\").text\n",
    "        text=post.find_element_by_xpath(\".//div[2]/div[2]/div[2]\").text\n",
    "        #profile=post.find_element_by_xpath(\".//div[1][@a='href']\").text\n",
    "        print(f\"scraped {n} tweets\")\n",
    "        n+=1\n",
    "    except NoSuchElementException:\n",
    "        return\n",
    "        \n",
    "    tweet=(username,text)\n",
    "    return tweet\n",
    "\n",
    "options=EdgeOptions()\n",
    "options.use_chromium=True\n",
    "driver=Edge(options=options)\n",
    "\n",
    "query=input(\"Please Enter the text you want to Search for:\")\n",
    "    \n",
    "driver.get(\"https://www.twitter.com/login\")\n",
    "driver.maximize_window()\n",
    "\n",
    "username=driver.find_element_by_xpath('//input[@name=\"session[username_or_email]\"]')\n",
    "username.send_keys(\"Your_twitter_email_here\")\n",
    "\n",
    "userpas=driver.find_element_by_xpath('//input[@name=\"session[password]\"]')\n",
    "userpas.send_keys('Your_twitter_password_here')\n",
    "userpas.send_keys(Keys.RETURN)\n",
    "sleep(1)\n",
    "\n",
    "#uncomment the lines below if twitter asks you to relogin with your phone number\n",
    "#username=driver.find_element_by_xpath('//input[@name=\"session[username_or_email]\"]')\n",
    "#username.send_keys(\"your_phonenumber_with_twitter\")\n",
    "\n",
    "\n",
    "#userpas=driver.find_element_by_xpath('//input[@name=\"session[password]\"]')\n",
    "#userpas.send_keys('password')\n",
    "#userpas.send_keys(Keys.RETURN)\n",
    "#sleep(1)\n",
    "\n",
    "\n",
    "\n",
    "search=driver.find_element_by_xpath('//input[@aria-label=\"Search query\"]')\n",
    "search.send_keys(\"lang:ur\"+query)\n",
    "search.send_keys(Keys.RETURN)\n",
    "\n",
    "driver.find_element_by_link_text(\"Latest\").click()\n",
    "data=[]\n",
    "tweet_ids=set()\n",
    "last_position=driver.execute_script(\"return window.pageYOffset;\")\n",
    "scrolling=True\n",
    "\n",
    "while scrolling:\n",
    "    posts=driver.find_elements_by_xpath('//div[@data-testid=\"tweet\"]')\n",
    "    for post in posts[-15:]:\n",
    "        tweet=scrap_tweets(post)\n",
    "        if tweet:\n",
    "            tweet_id=\"\".join(tweet)\n",
    "            if tweet_id not in tweet_ids:\n",
    "                tweet_ids.add(tweet_id)\n",
    "                data.append(tweet)\n",
    "                \n",
    "    scroll_attempt=0\n",
    "    while True:\n",
    "        driver.execute_script(\"window.scrollTo(0,document.body.scrollHeight);\")\n",
    "        sleep(1)\n",
    "        \n",
    "        curr_position=driver.execute_script(\"return window.pageYOffset;\")\n",
    "        if last_position==curr_position:\n",
    "            scroll_attempt += 1\n",
    "            \n",
    "            if scroll_attempt >= 3:\n",
    "                scrolling=False\n",
    "                break\n",
    "                \n",
    "            else:\n",
    "                sleep(2)\n",
    "        else:\n",
    "            last_position=curr_position\n",
    "            break\n",
    "            "
   ]
  },
  {
   "cell_type": "code",
   "execution_count": null,
   "metadata": {},
   "outputs": [],
   "source": [
    "with open(\"urdu_tweets.csv\", \"w\", newline=\"\", encoding=\"utf-8\") as f:\n",
    "    header=[\"user_name\",\"tweets\"]\n",
    "    writer=csv.writer(f)\n",
    "    writer.writerow(header)\n",
    "    writer.writerows(data)\n",
    "    "
   ]
  },
  {
   "cell_type": "code",
   "execution_count": null,
   "metadata": {},
   "outputs": [],
   "source": [
    "df=pd.read_csv(\"urdu_tweets.csv\")"
   ]
  },
  {
   "cell_type": "code",
   "execution_count": null,
   "metadata": {},
   "outputs": [],
   "source": [
    "df.info()"
   ]
  },
  {
   "cell_type": "code",
   "execution_count": null,
   "metadata": {},
   "outputs": [],
   "source": [
    "df.dropna(inplace=True)"
   ]
  },
  {
   "cell_type": "markdown",
   "metadata": {},
   "source": [
    "# Looking at the scraped data"
   ]
  },
  {
   "cell_type": "code",
   "execution_count": null,
   "metadata": {},
   "outputs": [],
   "source": [
    "df[:10]"
   ]
  },
  {
   "cell_type": "code",
   "execution_count": null,
   "metadata": {},
   "outputs": [],
   "source": [
    "df.info()"
   ]
  },
  {
   "cell_type": "code",
   "execution_count": null,
   "metadata": {},
   "outputs": [],
   "source": [
    "df.reset_index(drop=True,inplace=True)"
   ]
  },
  {
   "cell_type": "code",
   "execution_count": null,
   "metadata": {},
   "outputs": [],
   "source": [
    "df.head()"
   ]
  },
  {
   "cell_type": "code",
   "execution_count": null,
   "metadata": {},
   "outputs": [],
   "source": [
    "df.tweets[2]"
   ]
  },
  {
   "cell_type": "code",
   "execution_count": null,
   "metadata": {},
   "outputs": [],
   "source": [
    "df.to_csv(\"urdu_tweets.csv\",index=False)"
   ]
  },
  {
   "cell_type": "code",
   "execution_count": null,
   "metadata": {},
   "outputs": [],
   "source": [
    "pd.set_option(\"display.max_rows\",5000)\n",
    "pd.set_option(\"display.max_colwidth\",200\n",
    "             )"
   ]
  },
  {
   "cell_type": "code",
   "execution_count": null,
   "metadata": {},
   "outputs": [],
   "source": [
    "df=pd.read_csv(\"urdu_tweets.csv\")"
   ]
  },
  {
   "cell_type": "code",
   "execution_count": null,
   "metadata": {},
   "outputs": [],
   "source": [
    "df.info()"
   ]
  },
  {
   "cell_type": "code",
   "execution_count": null,
   "metadata": {},
   "outputs": [],
   "source": []
  }
 ],
 "metadata": {
  "kernelspec": {
   "display_name": "Python 3",
   "language": "python",
   "name": "python3"
  },
  "language_info": {
   "codemirror_mode": {
    "name": "ipython",
    "version": 3
   },
   "file_extension": ".py",
   "mimetype": "text/x-python",
   "name": "python",
   "nbconvert_exporter": "python",
   "pygments_lexer": "ipython3",
   "version": "3.6.12"
  }
 },
 "nbformat": 4,
 "nbformat_minor": 4
}

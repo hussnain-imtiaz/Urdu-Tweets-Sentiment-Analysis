{
  "nbformat": 4,
  "nbformat_minor": 0,
  "metadata": {
    "colab": {
      "name": "Scraping_newwebsites_urdu.ipynb",
      "provenance": [],
      "collapsed_sections": []
    },
    "kernelspec": {
      "name": "python3",
      "display_name": "Python 3"
    }
  },
  "cells": [
    {
      "cell_type": "code",
      "metadata": {
        "id": "Diig8_8qXY6C",
        "outputId": "043c7811-301e-449a-ff23-e2dbc72cf8e9",
        "colab": {
          "base_uri": "https://localhost:8080/",
          "height": 52
        }
      },
      "source": [
        "!pip install bs4 \n",
        "  \n",
        "from bs4 import BeautifulSoup as bs\n",
        "import requests\n",
        "data = []"
      ],
      "execution_count": 1,
      "outputs": [
        {
          "output_type": "stream",
          "text": [
            "Requirement already satisfied: bs4 in /usr/local/lib/python3.6/dist-packages (0.0.1)\n",
            "Requirement already satisfied: beautifulsoup4 in /usr/local/lib/python3.6/dist-packages (from bs4) (4.6.3)\n"
          ],
          "name": "stdout"
        }
      ]
    },
    {
      "cell_type": "markdown",
      "metadata": {
        "id": "bpy7P0ONEWB_"
      },
      "source": [
        "Scrape and Export to DataFrame"
      ]
    },
    {
      "cell_type": "code",
      "metadata": {
        "id": "dw5X2vez-Obu"
      },
      "source": [
        "import pandas as pd\n",
        "import csv\n",
        "raw_data= []\n",
        "myfile= 'output.csv'\n",
        "url_list = ['https://urdu.geo.tv',\n",
        "            'https://urdu.geo.tv/category/pakistan',\n",
        "            'https://urdu.geo.tv/category/sports',\n",
        "            'https://urdu.geo.tv/category/world',\n",
        "            'https://urdu.geo.tv/category/pakistan',\n",
        "            'https://www.urdupoint.com/urdu-news',\n",
        "            'https://urdu.arynews.tv',\n",
        "            'https://jang.com.pk',\n",
        "            'https://www.samaa.tv/urdu/'\n",
        "            ]\n",
        "#url_list = ['https://urdu.geo.tv']\n",
        "for url in url_list:\n",
        "      r = requests.get(url)\n",
        "      soup = bs(r.content)\n",
        "      # extract headers with atrrs\n",
        "      head = soup.find_all(['h1','h2'])\n",
        "      for h in head:\n",
        "        if len(h.get_text(strip=True)) >= 0:\n",
        "          raw_data.append(h.text)\n",
        "          #print('Line {}: '.format(counter),h.text,'\\n')\n",
        "          #counter+=1\n",
        "          #print(h.text)"
      ],
      "execution_count": 2,
      "outputs": []
    },
    {
      "cell_type": "code",
      "metadata": {
        "id": "HYi3DRxhANVN",
        "outputId": "eb2f90bc-c130-47ef-a879-9c1b3039ea7e",
        "colab": {
          "base_uri": "https://localhost:8080/",
          "height": 197
        }
      },
      "source": [
        "df = pd.DataFrame(raw_data, columns = ['data'])\n",
        "df.head()"
      ],
      "execution_count": 3,
      "outputs": [
        {
          "output_type": "execute_result",
          "data": {
            "text/html": [
              "<div>\n",
              "<style scoped>\n",
              "    .dataframe tbody tr th:only-of-type {\n",
              "        vertical-align: middle;\n",
              "    }\n",
              "\n",
              "    .dataframe tbody tr th {\n",
              "        vertical-align: top;\n",
              "    }\n",
              "\n",
              "    .dataframe thead th {\n",
              "        text-align: right;\n",
              "    }\n",
              "</style>\n",
              "<table border=\"1\" class=\"dataframe\">\n",
              "  <thead>\n",
              "    <tr style=\"text-align: right;\">\n",
              "      <th></th>\n",
              "      <th>data</th>\n",
              "    </tr>\n",
              "  </thead>\n",
              "  <tbody>\n",
              "    <tr>\n",
              "      <th>0</th>\n",
              "      <td>پشاور کی مسجد میں دھماکا، 7 افراد شہید، 112 زخمی</td>\n",
              "    </tr>\n",
              "    <tr>\n",
              "      <th>1</th>\n",
              "      <td>وزیراعظم عمران خان کی بھارت کو ایک بار پھر امن...</td>\n",
              "    </tr>\n",
              "    <tr>\n",
              "      <th>2</th>\n",
              "      <td>صدر ، وزیراعظم سمیت سیاسی قیادت پشاور دھماکے پ...</td>\n",
              "    </tr>\n",
              "    <tr>\n",
              "      <th>3</th>\n",
              "      <td>پشاور میں دہشتگردی کا واقعہ، اسلام آباد اور پن...</td>\n",
              "    </tr>\n",
              "    <tr>\n",
              "      <th>4</th>\n",
              "      <td>شہباز شریف کا نام ای سی ایل میں ڈالنے کی درخوا...</td>\n",
              "    </tr>\n",
              "  </tbody>\n",
              "</table>\n",
              "</div>"
            ],
            "text/plain": [
              "                                                data\n",
              "0   پشاور کی مسجد میں دھماکا، 7 افراد شہید، 112 زخمی\n",
              "1  وزیراعظم عمران خان کی بھارت کو ایک بار پھر امن...\n",
              "2  صدر ، وزیراعظم سمیت سیاسی قیادت پشاور دھماکے پ...\n",
              "3  پشاور میں دہشتگردی کا واقعہ، اسلام آباد اور پن...\n",
              "4  شہباز شریف کا نام ای سی ایل میں ڈالنے کی درخوا..."
            ]
          },
          "metadata": {
            "tags": []
          },
          "execution_count": 3
        }
      ]
    },
    {
      "cell_type": "code",
      "metadata": {
        "id": "IvdfUB11IBh0"
      },
      "source": [
        "df.to_csv('output.csv')"
      ],
      "execution_count": 4,
      "outputs": []
    },
    {
      "cell_type": "code",
      "metadata": {
        "id": "7nWbuq-8InIy",
        "outputId": "66163f29-c4e4-4009-f511-346f27695218",
        "colab": {
          "base_uri": "https://localhost:8080/",
          "height": 406
        }
      },
      "source": [
        "out_file = pd.read_csv('output.csv')\n",
        "out_file"
      ],
      "execution_count": 5,
      "outputs": [
        {
          "output_type": "execute_result",
          "data": {
            "text/html": [
              "<div>\n",
              "<style scoped>\n",
              "    .dataframe tbody tr th:only-of-type {\n",
              "        vertical-align: middle;\n",
              "    }\n",
              "\n",
              "    .dataframe tbody tr th {\n",
              "        vertical-align: top;\n",
              "    }\n",
              "\n",
              "    .dataframe thead th {\n",
              "        text-align: right;\n",
              "    }\n",
              "</style>\n",
              "<table border=\"1\" class=\"dataframe\">\n",
              "  <thead>\n",
              "    <tr style=\"text-align: right;\">\n",
              "      <th></th>\n",
              "      <th>Unnamed: 0</th>\n",
              "      <th>data</th>\n",
              "    </tr>\n",
              "  </thead>\n",
              "  <tbody>\n",
              "    <tr>\n",
              "      <th>0</th>\n",
              "      <td>0</td>\n",
              "      <td>پشاور کی مسجد میں دھماکا، 7 افراد شہید، 112 زخمی</td>\n",
              "    </tr>\n",
              "    <tr>\n",
              "      <th>1</th>\n",
              "      <td>1</td>\n",
              "      <td>وزیراعظم عمران خان کی بھارت کو ایک بار پھر امن...</td>\n",
              "    </tr>\n",
              "    <tr>\n",
              "      <th>2</th>\n",
              "      <td>2</td>\n",
              "      <td>صدر ، وزیراعظم سمیت سیاسی قیادت پشاور دھماکے پ...</td>\n",
              "    </tr>\n",
              "    <tr>\n",
              "      <th>3</th>\n",
              "      <td>3</td>\n",
              "      <td>پشاور میں دہشتگردی کا واقعہ، اسلام آباد اور پن...</td>\n",
              "    </tr>\n",
              "    <tr>\n",
              "      <th>4</th>\n",
              "      <td>4</td>\n",
              "      <td>شہباز شریف کا نام ای سی ایل میں ڈالنے کی درخوا...</td>\n",
              "    </tr>\n",
              "    <tr>\n",
              "      <th>...</th>\n",
              "      <td>...</td>\n",
              "      <td>...</td>\n",
              "    </tr>\n",
              "    <tr>\n",
              "      <th>388</th>\n",
              "      <td>388</td>\n",
              "      <td>امریکی سپریم کورٹ کی نئی جج نے حلف اٹھالیا</td>\n",
              "    </tr>\n",
              "    <tr>\n",
              "      <th>389</th>\n",
              "      <td>389</td>\n",
              "      <td>’امریکا ملکوں پر پابندیاں لگانے کا عادی ہے‘</td>\n",
              "    </tr>\n",
              "    <tr>\n",
              "      <th>390</th>\n",
              "      <td>390</td>\n",
              "      <td>گستاخانہ خاکے، پاکستان کا شدید احتجاج</td>\n",
              "    </tr>\n",
              "    <tr>\n",
              "      <th>391</th>\n",
              "      <td>391</td>\n",
              "      <td>’فرانس کے صدر کے توہین آمیز کلمات سے مسلمانوں...</td>\n",
              "    </tr>\n",
              "    <tr>\n",
              "      <th>392</th>\n",
              "      <td>392</td>\n",
              "      <td>اہم خبریں</td>\n",
              "    </tr>\n",
              "  </tbody>\n",
              "</table>\n",
              "<p>393 rows × 2 columns</p>\n",
              "</div>"
            ],
            "text/plain": [
              "     Unnamed: 0                                               data\n",
              "0             0   پشاور کی مسجد میں دھماکا، 7 افراد شہید، 112 زخمی\n",
              "1             1  وزیراعظم عمران خان کی بھارت کو ایک بار پھر امن...\n",
              "2             2  صدر ، وزیراعظم سمیت سیاسی قیادت پشاور دھماکے پ...\n",
              "3             3  پشاور میں دہشتگردی کا واقعہ، اسلام آباد اور پن...\n",
              "4             4  شہباز شریف کا نام ای سی ایل میں ڈالنے کی درخوا...\n",
              "..          ...                                                ...\n",
              "388         388         امریکی سپریم کورٹ کی نئی جج نے حلف اٹھالیا\n",
              "389         389        ’امریکا ملکوں پر پابندیاں لگانے کا عادی ہے‘\n",
              "390         390              گستاخانہ خاکے، پاکستان کا شدید احتجاج\n",
              "391         391  ’فرانس کے صدر کے توہین آمیز کلمات سے مسلمانوں...\n",
              "392         392                                          اہم خبریں\n",
              "\n",
              "[393 rows x 2 columns]"
            ]
          },
          "metadata": {
            "tags": []
          },
          "execution_count": 5
        }
      ]
    },
    {
      "cell_type": "markdown",
      "metadata": {
        "id": "NXUH_gHwVgk2"
      },
      "source": [
        "Code below needs to fixed!"
      ]
    },
    {
      "cell_type": "code",
      "metadata": {
        "id": "w2T2MpeOrZ-X",
        "outputId": "31465134-9c36-42a0-afe5-65eb271e542c",
        "colab": {
          "base_uri": "https://localhost:8080/",
          "height": 1000
        }
      },
      "source": [
        "pip install Urduhack[tf]"
      ],
      "execution_count": 8,
      "outputs": [
        {
          "output_type": "stream",
          "text": [
            "Collecting Urduhack[tf]\n",
            "\u001b[?25l  Downloading https://files.pythonhosted.org/packages/59/04/3393a9626b766cfee3187e9ccfa27e73061c24646d60be22a0652de95b4f/urduhack-1.1.1-py3-none-any.whl (105kB)\n",
            "\u001b[K     |████████████████████████████████| 112kB 8.4MB/s \n",
            "\u001b[?25hRequirement already satisfied: regex in /usr/local/lib/python3.6/dist-packages (from Urduhack[tf]) (2019.12.20)\n",
            "Requirement already satisfied: Click~=7.1 in /usr/local/lib/python3.6/dist-packages (from Urduhack[tf]) (7.1.2)\n",
            "Collecting tensorflow-datasets~=3.1\n",
            "\u001b[?25l  Downloading https://files.pythonhosted.org/packages/ca/c9/d97bdf931edbae9aebc767633d088bd674136d5fe7587ef693b7cb6a1883/tensorflow_datasets-3.2.1-py3-none-any.whl (3.4MB)\n",
            "\u001b[K     |████████████████████████████████| 3.4MB 27.0MB/s \n",
            "\u001b[?25hCollecting tf2crf\n",
            "  Downloading https://files.pythonhosted.org/packages/51/da/f2e6d10098085d32b9644fd24e0c4abcfc59b345556af7db317fc01bf634/tf2crf-0.1.24-py2.py3-none-any.whl\n",
            "Requirement already satisfied: tensorflow~=2.2; extra == \"tf\" in /usr/local/lib/python3.6/dist-packages (from Urduhack[tf]) (2.3.0)\n",
            "Requirement already satisfied: tqdm in /usr/local/lib/python3.6/dist-packages (from tensorflow-datasets~=3.1->Urduhack[tf]) (4.41.1)\n",
            "Requirement already satisfied: requests>=2.19.0 in /usr/local/lib/python3.6/dist-packages (from tensorflow-datasets~=3.1->Urduhack[tf]) (2.23.0)\n",
            "Requirement already satisfied: termcolor in /usr/local/lib/python3.6/dist-packages (from tensorflow-datasets~=3.1->Urduhack[tf]) (1.1.0)\n",
            "Requirement already satisfied: six in /usr/local/lib/python3.6/dist-packages (from tensorflow-datasets~=3.1->Urduhack[tf]) (1.15.0)\n",
            "Requirement already satisfied: attrs>=18.1.0 in /usr/local/lib/python3.6/dist-packages (from tensorflow-datasets~=3.1->Urduhack[tf]) (20.2.0)\n",
            "Requirement already satisfied: tensorflow-metadata in /usr/local/lib/python3.6/dist-packages (from tensorflow-datasets~=3.1->Urduhack[tf]) (0.24.0)\n",
            "Requirement already satisfied: future in /usr/local/lib/python3.6/dist-packages (from tensorflow-datasets~=3.1->Urduhack[tf]) (0.16.0)\n",
            "Requirement already satisfied: numpy in /usr/local/lib/python3.6/dist-packages (from tensorflow-datasets~=3.1->Urduhack[tf]) (1.18.5)\n",
            "Requirement already satisfied: wrapt in /usr/local/lib/python3.6/dist-packages (from tensorflow-datasets~=3.1->Urduhack[tf]) (1.12.1)\n",
            "Requirement already satisfied: dill in /usr/local/lib/python3.6/dist-packages (from tensorflow-datasets~=3.1->Urduhack[tf]) (0.3.2)\n",
            "Requirement already satisfied: protobuf>=3.6.1 in /usr/local/lib/python3.6/dist-packages (from tensorflow-datasets~=3.1->Urduhack[tf]) (3.12.4)\n",
            "Requirement already satisfied: absl-py in /usr/local/lib/python3.6/dist-packages (from tensorflow-datasets~=3.1->Urduhack[tf]) (0.10.0)\n",
            "Requirement already satisfied: promise in /usr/local/lib/python3.6/dist-packages (from tensorflow-datasets~=3.1->Urduhack[tf]) (2.3)\n",
            "Requirement already satisfied: tensorflow-addons>=0.8.2 in /usr/local/lib/python3.6/dist-packages (from tf2crf->Urduhack[tf]) (0.8.3)\n",
            "Requirement already satisfied: google-pasta>=0.1.8 in /usr/local/lib/python3.6/dist-packages (from tensorflow~=2.2; extra == \"tf\"->Urduhack[tf]) (0.2.0)\n",
            "Requirement already satisfied: wheel>=0.26 in /usr/local/lib/python3.6/dist-packages (from tensorflow~=2.2; extra == \"tf\"->Urduhack[tf]) (0.35.1)\n",
            "Requirement already satisfied: grpcio>=1.8.6 in /usr/local/lib/python3.6/dist-packages (from tensorflow~=2.2; extra == \"tf\"->Urduhack[tf]) (1.33.1)\n",
            "Requirement already satisfied: h5py<2.11.0,>=2.10.0 in /usr/local/lib/python3.6/dist-packages (from tensorflow~=2.2; extra == \"tf\"->Urduhack[tf]) (2.10.0)\n",
            "Requirement already satisfied: keras-preprocessing<1.2,>=1.1.1 in /usr/local/lib/python3.6/dist-packages (from tensorflow~=2.2; extra == \"tf\"->Urduhack[tf]) (1.1.2)\n",
            "Requirement already satisfied: tensorflow-estimator<2.4.0,>=2.3.0 in /usr/local/lib/python3.6/dist-packages (from tensorflow~=2.2; extra == \"tf\"->Urduhack[tf]) (2.3.0)\n",
            "Requirement already satisfied: opt-einsum>=2.3.2 in /usr/local/lib/python3.6/dist-packages (from tensorflow~=2.2; extra == \"tf\"->Urduhack[tf]) (3.3.0)\n",
            "Requirement already satisfied: astunparse==1.6.3 in /usr/local/lib/python3.6/dist-packages (from tensorflow~=2.2; extra == \"tf\"->Urduhack[tf]) (1.6.3)\n",
            "Requirement already satisfied: scipy==1.4.1 in /usr/local/lib/python3.6/dist-packages (from tensorflow~=2.2; extra == \"tf\"->Urduhack[tf]) (1.4.1)\n",
            "Requirement already satisfied: tensorboard<3,>=2.3.0 in /usr/local/lib/python3.6/dist-packages (from tensorflow~=2.2; extra == \"tf\"->Urduhack[tf]) (2.3.0)\n",
            "Requirement already satisfied: gast==0.3.3 in /usr/local/lib/python3.6/dist-packages (from tensorflow~=2.2; extra == \"tf\"->Urduhack[tf]) (0.3.3)\n",
            "Requirement already satisfied: idna<3,>=2.5 in /usr/local/lib/python3.6/dist-packages (from requests>=2.19.0->tensorflow-datasets~=3.1->Urduhack[tf]) (2.10)\n",
            "Requirement already satisfied: certifi>=2017.4.17 in /usr/local/lib/python3.6/dist-packages (from requests>=2.19.0->tensorflow-datasets~=3.1->Urduhack[tf]) (2020.6.20)\n",
            "Requirement already satisfied: chardet<4,>=3.0.2 in /usr/local/lib/python3.6/dist-packages (from requests>=2.19.0->tensorflow-datasets~=3.1->Urduhack[tf]) (3.0.4)\n",
            "Requirement already satisfied: urllib3!=1.25.0,!=1.25.1,<1.26,>=1.21.1 in /usr/local/lib/python3.6/dist-packages (from requests>=2.19.0->tensorflow-datasets~=3.1->Urduhack[tf]) (1.24.3)\n",
            "Requirement already satisfied: googleapis-common-protos<2,>=1.52.0 in /usr/local/lib/python3.6/dist-packages (from tensorflow-metadata->tensorflow-datasets~=3.1->Urduhack[tf]) (1.52.0)\n",
            "Requirement already satisfied: setuptools in /usr/local/lib/python3.6/dist-packages (from protobuf>=3.6.1->tensorflow-datasets~=3.1->Urduhack[tf]) (50.3.0)\n",
            "Requirement already satisfied: typeguard in /usr/local/lib/python3.6/dist-packages (from tensorflow-addons>=0.8.2->tf2crf->Urduhack[tf]) (2.7.1)\n",
            "Requirement already satisfied: werkzeug>=0.11.15 in /usr/local/lib/python3.6/dist-packages (from tensorboard<3,>=2.3.0->tensorflow~=2.2; extra == \"tf\"->Urduhack[tf]) (1.0.1)\n",
            "Requirement already satisfied: tensorboard-plugin-wit>=1.6.0 in /usr/local/lib/python3.6/dist-packages (from tensorboard<3,>=2.3.0->tensorflow~=2.2; extra == \"tf\"->Urduhack[tf]) (1.7.0)\n",
            "Requirement already satisfied: google-auth-oauthlib<0.5,>=0.4.1 in /usr/local/lib/python3.6/dist-packages (from tensorboard<3,>=2.3.0->tensorflow~=2.2; extra == \"tf\"->Urduhack[tf]) (0.4.1)\n",
            "Requirement already satisfied: google-auth<2,>=1.6.3 in /usr/local/lib/python3.6/dist-packages (from tensorboard<3,>=2.3.0->tensorflow~=2.2; extra == \"tf\"->Urduhack[tf]) (1.17.2)\n",
            "Requirement already satisfied: markdown>=2.6.8 in /usr/local/lib/python3.6/dist-packages (from tensorboard<3,>=2.3.0->tensorflow~=2.2; extra == \"tf\"->Urduhack[tf]) (3.3.2)\n",
            "Requirement already satisfied: requests-oauthlib>=0.7.0 in /usr/local/lib/python3.6/dist-packages (from google-auth-oauthlib<0.5,>=0.4.1->tensorboard<3,>=2.3.0->tensorflow~=2.2; extra == \"tf\"->Urduhack[tf]) (1.3.0)\n",
            "Requirement already satisfied: pyasn1-modules>=0.2.1 in /usr/local/lib/python3.6/dist-packages (from google-auth<2,>=1.6.3->tensorboard<3,>=2.3.0->tensorflow~=2.2; extra == \"tf\"->Urduhack[tf]) (0.2.8)\n",
            "Requirement already satisfied: cachetools<5.0,>=2.0.0 in /usr/local/lib/python3.6/dist-packages (from google-auth<2,>=1.6.3->tensorboard<3,>=2.3.0->tensorflow~=2.2; extra == \"tf\"->Urduhack[tf]) (4.1.1)\n",
            "Requirement already satisfied: rsa<5,>=3.1.4; python_version >= \"3\" in /usr/local/lib/python3.6/dist-packages (from google-auth<2,>=1.6.3->tensorboard<3,>=2.3.0->tensorflow~=2.2; extra == \"tf\"->Urduhack[tf]) (4.6)\n",
            "Requirement already satisfied: importlib-metadata; python_version < \"3.8\" in /usr/local/lib/python3.6/dist-packages (from markdown>=2.6.8->tensorboard<3,>=2.3.0->tensorflow~=2.2; extra == \"tf\"->Urduhack[tf]) (2.0.0)\n",
            "Requirement already satisfied: oauthlib>=3.0.0 in /usr/local/lib/python3.6/dist-packages (from requests-oauthlib>=0.7.0->google-auth-oauthlib<0.5,>=0.4.1->tensorboard<3,>=2.3.0->tensorflow~=2.2; extra == \"tf\"->Urduhack[tf]) (3.1.0)\n",
            "Requirement already satisfied: pyasn1<0.5.0,>=0.4.6 in /usr/local/lib/python3.6/dist-packages (from pyasn1-modules>=0.2.1->google-auth<2,>=1.6.3->tensorboard<3,>=2.3.0->tensorflow~=2.2; extra == \"tf\"->Urduhack[tf]) (0.4.8)\n",
            "Requirement already satisfied: zipp>=0.5 in /usr/local/lib/python3.6/dist-packages (from importlib-metadata; python_version < \"3.8\"->markdown>=2.6.8->tensorboard<3,>=2.3.0->tensorflow~=2.2; extra == \"tf\"->Urduhack[tf]) (3.3.1)\n",
            "Installing collected packages: tensorflow-datasets, tf2crf, Urduhack\n",
            "  Found existing installation: tensorflow-datasets 4.0.1\n",
            "    Uninstalling tensorflow-datasets-4.0.1:\n",
            "      Successfully uninstalled tensorflow-datasets-4.0.1\n",
            "Successfully installed Urduhack-1.1.1 tensorflow-datasets-3.2.1 tf2crf-0.1.24\n"
          ],
          "name": "stdout"
        }
      ]
    },
    {
      "cell_type": "code",
      "metadata": {
        "id": "gL3ZsKZcrckf"
      },
      "source": [
        "import urduhack\n",
        "urduhack.download()\n",
        "from urduhack import normalize\n",
        "from urduhack.tokenization import sentence_tokenizer # this is causing weird artifacts"
      ],
      "execution_count": 11,
      "outputs": []
    },
    {
      "cell_type": "code",
      "metadata": {
        "id": "qMF9PWsg-CM5"
      },
      "source": [
        "after =[]\n",
        "for x in raw_data:\n",
        "  #after.append(sentence_tokenizer(normalize(x)))\n",
        "  after.append(sentence_tokenizer(normalize(x)))"
      ],
      "execution_count": 23,
      "outputs": []
    },
    {
      "cell_type": "code",
      "metadata": {
        "id": "ANnX_15BgQqw",
        "outputId": "c17a4e6a-45f7-4457-b42f-37455d59262a",
        "colab": {
          "base_uri": "https://localhost:8080/",
          "height": 197
        }
      },
      "source": [
        "df = pd.DataFrame({'before': raw_data, 'after': after})\n",
        "df.head()"
      ],
      "execution_count": 24,
      "outputs": [
        {
          "output_type": "execute_result",
          "data": {
            "text/html": [
              "<div>\n",
              "<style scoped>\n",
              "    .dataframe tbody tr th:only-of-type {\n",
              "        vertical-align: middle;\n",
              "    }\n",
              "\n",
              "    .dataframe tbody tr th {\n",
              "        vertical-align: top;\n",
              "    }\n",
              "\n",
              "    .dataframe thead th {\n",
              "        text-align: right;\n",
              "    }\n",
              "</style>\n",
              "<table border=\"1\" class=\"dataframe\">\n",
              "  <thead>\n",
              "    <tr style=\"text-align: right;\">\n",
              "      <th></th>\n",
              "      <th>before</th>\n",
              "      <th>after</th>\n",
              "    </tr>\n",
              "  </thead>\n",
              "  <tbody>\n",
              "    <tr>\n",
              "      <th>0</th>\n",
              "      <td>پشاور کی مسجد میں دھماکا، 7 افراد شہید، 112 زخمی</td>\n",
              "      <td>[پشاور کی مسجد میں دھماکا، 7 افراد شہید، 112 ز...</td>\n",
              "    </tr>\n",
              "    <tr>\n",
              "      <th>1</th>\n",
              "      <td>وزیراعظم عمران خان کی بھارت کو ایک بار پھر امن...</td>\n",
              "      <td>[وزیراعظم عمران خان کی بھارت کو ایک بار پھر ام...</td>\n",
              "    </tr>\n",
              "    <tr>\n",
              "      <th>2</th>\n",
              "      <td>صدر ، وزیراعظم سمیت سیاسی قیادت پشاور دھماکے پ...</td>\n",
              "      <td>[صدر ، وزیراعظم سمیت سیاسی قیادت پشاور دھماکے ...</td>\n",
              "    </tr>\n",
              "    <tr>\n",
              "      <th>3</th>\n",
              "      <td>پشاور میں دہشتگردی کا واقعہ، اسلام آباد اور پن...</td>\n",
              "      <td>[پشاور میں دہشتگردی کا واقعہ، اسلام آباد اور پ...</td>\n",
              "    </tr>\n",
              "    <tr>\n",
              "      <th>4</th>\n",
              "      <td>شہباز شریف کا نام ای سی ایل میں ڈالنے کی درخوا...</td>\n",
              "      <td>[شہباز شریف کا نام ای سی ایل میں ڈالنے کی درخو...</td>\n",
              "    </tr>\n",
              "  </tbody>\n",
              "</table>\n",
              "</div>"
            ],
            "text/plain": [
              "                                              before                                              after\n",
              "0   پشاور کی مسجد میں دھماکا، 7 افراد شہید، 112 زخمی  [پشاور کی مسجد میں دھماکا، 7 افراد شہید، 112 ز...\n",
              "1  وزیراعظم عمران خان کی بھارت کو ایک بار پھر امن...  [وزیراعظم عمران خان کی بھارت کو ایک بار پھر ام...\n",
              "2  صدر ، وزیراعظم سمیت سیاسی قیادت پشاور دھماکے پ...  [صدر ، وزیراعظم سمیت سیاسی قیادت پشاور دھماکے ...\n",
              "3  پشاور میں دہشتگردی کا واقعہ، اسلام آباد اور پن...  [پشاور میں دہشتگردی کا واقعہ، اسلام آباد اور پ...\n",
              "4  شہباز شریف کا نام ای سی ایل میں ڈالنے کی درخوا...  [شہباز شریف کا نام ای سی ایل میں ڈالنے کی درخو..."
            ]
          },
          "metadata": {
            "tags": []
          },
          "execution_count": 24
        }
      ]
    },
    {
      "cell_type": "code",
      "metadata": {
        "id": "4vSaId6OhCAw",
        "outputId": "60f0e589-c407-4c09-a5d4-024230a49124",
        "colab": {
          "base_uri": "https://localhost:8080/",
          "height": 70
        }
      },
      "source": [
        "df.iloc[0]"
      ],
      "execution_count": 25,
      "outputs": [
        {
          "output_type": "execute_result",
          "data": {
            "text/plain": [
              "before     پشاور کی مسجد میں دھماکا، 7 افراد شہید، 112 زخمی\n",
              "after     [پشاور کی مسجد میں دھماکا، 7 افراد شہید، 112 ز...\n",
              "Name: 0, dtype: object"
            ]
          },
          "metadata": {
            "tags": []
          },
          "execution_count": 25
        }
      ]
    }
  ]
}